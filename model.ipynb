{
 "cells": [
  {
   "cell_type": "code",
   "execution_count": 10,
   "id": "8f6fe30f-7c12-4c4c-87e8-14f08020d713",
   "metadata": {},
   "outputs": [],
   "source": [
    "import os\n",
    "import cv2\n",
    "import numpy as np\n",
    "from sklearn.model_selection import train_test_split\n",
    "from sklearn.linear_model import LogisticRegression\n",
    "from sklearn.neighbors import KNeighborsClassifier\n",
    "from sklearn.tree import DecisionTreeClassifier\n",
    "from sklearn.ensemble import RandomForestClassifier\n",
    "from sklearn.naive_bayes import GaussianNB\n",
    "from sklearn.svm import SVC\n",
    "from sklearn.metrics import classification_report, accuracy_score\n",
    "from sklearn.decomposition import PCA\n",
    "from sklearn.preprocessing import StandardScaler\n",
    "\n",
    "from tqdm import tqdm"
   ]
  },
  {
   "cell_type": "code",
   "execution_count": 5,
   "id": "46ddbe7f-5c8b-44e3-a327-2aee396f4b88",
   "metadata": {},
   "outputs": [
    {
     "name": "stdout",
     "output_type": "stream",
     "text": [
      "✅ Dataset Created\n",
      "Shape of X: (3244, 64, 64, 3)\n",
      "Shape of y: (3244,)\n"
     ]
    }
   ],
   "source": [
    "data_dir = r\"C:\\Users\\deepa\\cricket_dashboard\\argument img\"\n",
    "img_size = 64\n",
    "\n",
    "X = []\n",
    "y = []\n",
    "label_dict = {}\n",
    "label_count = 0\n",
    "\n",
    "for player in os.listdir(data_dir):\n",
    "    player_path = os.path.join(data_dir, player)\n",
    "    if os.path.isdir(player_path):\n",
    "        label_dict[label_count] = player\n",
    "        for img_name in os.listdir(player_path):\n",
    "            img_path = os.path.join(player_path, img_name)\n",
    "            img = cv2.imread(img_path)\n",
    "            if img is not None:\n",
    "                img = cv2.resize(img, (img_size, img_size))\n",
    "                X.append(img)\n",
    "                y.append(label_count)\n",
    "        label_count += 1\n",
    "\n",
    "X = np.array(X)\n",
    "y = np.array(y)\n",
    "\n",
    "print(\"✅ Dataset Created\")\n",
    "print(\"Shape of X:\", X.shape)\n",
    "print(\"Shape of y:\", y.shape)\n"
   ]
  },
  {
   "cell_type": "code",
   "execution_count": 6,
   "id": "04bc1688-a892-420c-97d2-4fb8d4fe5114",
   "metadata": {},
   "outputs": [
    {
     "name": "stdout",
     "output_type": "stream",
     "text": [
      "✅ Data Split into Train/Test\n"
     ]
    }
   ],
   "source": [
    "# Normalize and flatten\n",
    "X = X / 255.0\n",
    "X = X.reshape(len(X), -1)  # Flatten images\n",
    "\n",
    "from sklearn.model_selection import train_test_split\n",
    "\n",
    "X_train, X_test, y_train, y_test = train_test_split(\n",
    "    X, y, test_size=0.2, random_state=42, stratify=y\n",
    ")\n",
    "\n",
    "print(\"✅ Data Split into Train/Test\")\n"
   ]
  },
  {
   "cell_type": "code",
   "execution_count": 7,
   "id": "f6df39fc-4e2f-479a-85be-ee3ef90add2a",
   "metadata": {},
   "outputs": [
    {
     "name": "stdout",
     "output_type": "stream",
     "text": [
      "Shape of X: (3244, 12288)\n",
      "Shape of y: (3244,)\n"
     ]
    }
   ],
   "source": [
    "print(\"Shape of X:\", X.shape)\n",
    "print(\"Shape of y:\", y.shape)\n"
   ]
  },
  {
   "cell_type": "code",
   "execution_count": 8,
   "id": "5088d734-b79f-4f73-9aa0-935539ebaa41",
   "metadata": {},
   "outputs": [
    {
     "name": "stderr",
     "output_type": "stream",
     "text": [
      "Training Models:  17%|███████████▏                                                       | 1/6 [00:38<03:12, 38.54s/it]"
     ]
    },
    {
     "name": "stdout",
     "output_type": "stream",
     "text": [
      "\n",
      "📌 Logistic Regression\n",
      "✅ Accuracy: 0.83\n",
      "                     precision    recall  f1-score   support\n",
      "\n",
      "     Arshdeep Singh       0.86      0.96      0.91        56\n",
      "         Axar Patel       0.90      0.88      0.89        41\n",
      "      Hardik Pandya       0.79      0.78      0.78        49\n",
      "       Harshit Rana       0.85      0.78      0.82        37\n",
      "           KL Rahul       0.82      0.80      0.81        46\n",
      "      Kuldeep Yadav       0.89      0.82      0.85        49\n",
      "     Mohammed Shami       0.94      0.83      0.88        41\n",
      "    Ravindra Jadeja       0.88      0.80      0.84        35\n",
      "       Rishabh Pant       0.71      0.87      0.78        46\n",
      "       rohit sharma       0.76      0.66      0.70        29\n",
      "       Shreyas Iyer       0.84      0.86      0.85        57\n",
      "       Shubman Gill       0.85      0.85      0.85        39\n",
      "Varun Chakaravarthy       0.83      0.70      0.76        27\n",
      "        Virat Kohli       0.82      0.85      0.84        48\n",
      "  Washington Sundar       0.80      0.90      0.85        49\n",
      "\n",
      "           accuracy                           0.83       649\n",
      "          macro avg       0.84      0.82      0.83       649\n",
      "       weighted avg       0.84      0.83      0.83       649\n",
      "\n"
     ]
    },
    {
     "name": "stderr",
     "output_type": "stream",
     "text": [
      "C:\\Users\\deepa\\anaconda3\\Lib\\site-packages\\joblib\\externals\\loky\\backend\\context.py:136: UserWarning: Could not find the number of physical cores for the following reason:\n",
      "[WinError 2] The system cannot find the file specified\n",
      "Returning the number of logical cores instead. You can silence this warning by setting LOKY_MAX_CPU_COUNT to the number of cores you want to use.\n",
      "  warnings.warn(\n",
      "  File \"C:\\Users\\deepa\\anaconda3\\Lib\\site-packages\\joblib\\externals\\loky\\backend\\context.py\", line 257, in _count_physical_cores\n",
      "    cpu_info = subprocess.run(\n",
      "               ^^^^^^^^^^^^^^^\n",
      "  File \"C:\\Users\\deepa\\anaconda3\\Lib\\subprocess.py\", line 548, in run\n",
      "    with Popen(*popenargs, **kwargs) as process:\n",
      "         ^^^^^^^^^^^^^^^^^^^^^^^^^^^\n",
      "  File \"C:\\Users\\deepa\\anaconda3\\Lib\\subprocess.py\", line 1026, in __init__\n",
      "    self._execute_child(args, executable, preexec_fn, close_fds,\n",
      "  File \"C:\\Users\\deepa\\anaconda3\\Lib\\subprocess.py\", line 1538, in _execute_child\n",
      "    hp, ht, pid, tid = _winapi.CreateProcess(executable, args,\n",
      "                       ^^^^^^^^^^^^^^^^^^^^^^^^^^^^^^^^^^^^^^^\n",
      "Training Models:  33%|██████████████████████▎                                            | 2/6 [00:39<01:06, 16.54s/it]"
     ]
    },
    {
     "name": "stdout",
     "output_type": "stream",
     "text": [
      "\n",
      "📌 KNN\n",
      "✅ Accuracy: 0.53\n",
      "                     precision    recall  f1-score   support\n",
      "\n",
      "     Arshdeep Singh       0.57      0.82      0.67        56\n",
      "         Axar Patel       0.52      0.76      0.61        41\n",
      "      Hardik Pandya       0.48      0.47      0.47        49\n",
      "       Harshit Rana       0.39      0.68      0.50        37\n",
      "           KL Rahul       0.59      0.43      0.50        46\n",
      "      Kuldeep Yadav       0.44      0.49      0.47        49\n",
      "     Mohammed Shami       0.61      0.54      0.57        41\n",
      "    Ravindra Jadeja       0.78      0.40      0.53        35\n",
      "       Rishabh Pant       0.43      0.61      0.50        46\n",
      "       rohit sharma       0.50      0.28      0.36        29\n",
      "       Shreyas Iyer       0.61      0.63      0.62        57\n",
      "       Shubman Gill       0.79      0.49      0.60        39\n",
      "Varun Chakaravarthy       0.36      0.30      0.33        27\n",
      "        Virat Kohli       0.74      0.42      0.53        48\n",
      "  Washington Sundar       0.56      0.47      0.51        49\n",
      "\n",
      "           accuracy                           0.53       649\n",
      "          macro avg       0.56      0.52      0.52       649\n",
      "       weighted avg       0.56      0.53      0.53       649\n",
      "\n"
     ]
    },
    {
     "name": "stderr",
     "output_type": "stream",
     "text": [
      "Training Models:  50%|█████████████████████████████████▌                                 | 3/6 [01:38<01:47, 35.77s/it]"
     ]
    },
    {
     "name": "stdout",
     "output_type": "stream",
     "text": [
      "\n",
      "📌 SVM\n",
      "✅ Accuracy: 0.85\n",
      "                     precision    recall  f1-score   support\n",
      "\n",
      "     Arshdeep Singh       0.84      0.96      0.90        56\n",
      "         Axar Patel       0.88      0.88      0.88        41\n",
      "      Hardik Pandya       0.71      0.80      0.75        49\n",
      "       Harshit Rana       0.78      0.84      0.81        37\n",
      "           KL Rahul       0.89      0.85      0.87        46\n",
      "      Kuldeep Yadav       0.94      0.90      0.92        49\n",
      "     Mohammed Shami       0.92      0.88      0.90        41\n",
      "    Ravindra Jadeja       0.81      0.83      0.82        35\n",
      "       Rishabh Pant       0.72      0.78      0.75        46\n",
      "       rohit sharma       0.80      0.69      0.74        29\n",
      "       Shreyas Iyer       0.90      0.79      0.84        57\n",
      "       Shubman Gill       0.92      0.92      0.92        39\n",
      "Varun Chakaravarthy       0.87      0.74      0.80        27\n",
      "        Virat Kohli       0.88      0.88      0.88        48\n",
      "  Washington Sundar       0.88      0.86      0.87        49\n",
      "\n",
      "           accuracy                           0.85       649\n",
      "          macro avg       0.85      0.84      0.84       649\n",
      "       weighted avg       0.85      0.85      0.85       649\n",
      "\n"
     ]
    },
    {
     "name": "stderr",
     "output_type": "stream",
     "text": [
      "Training Models:  67%|████████████████████████████████████████████▋                      | 4/6 [02:34<01:27, 43.78s/it]"
     ]
    },
    {
     "name": "stdout",
     "output_type": "stream",
     "text": [
      "\n",
      "📌 Decision Tree\n",
      "✅ Accuracy: 0.31\n",
      "                     precision    recall  f1-score   support\n",
      "\n",
      "     Arshdeep Singh       0.50      0.50      0.50        56\n",
      "         Axar Patel       0.34      0.34      0.34        41\n",
      "      Hardik Pandya       0.37      0.31      0.33        49\n",
      "       Harshit Rana       0.15      0.16      0.16        37\n",
      "           KL Rahul       0.29      0.30      0.29        46\n",
      "      Kuldeep Yadav       0.38      0.31      0.34        49\n",
      "     Mohammed Shami       0.43      0.51      0.47        41\n",
      "    Ravindra Jadeja       0.34      0.31      0.33        35\n",
      "       Rishabh Pant       0.22      0.20      0.21        46\n",
      "       rohit sharma       0.12      0.14      0.13        29\n",
      "       Shreyas Iyer       0.31      0.30      0.31        57\n",
      "       Shubman Gill       0.36      0.36      0.36        39\n",
      "Varun Chakaravarthy       0.13      0.15      0.14        27\n",
      "        Virat Kohli       0.28      0.31      0.29        48\n",
      "  Washington Sundar       0.31      0.33      0.32        49\n",
      "\n",
      "           accuracy                           0.31       649\n",
      "          macro avg       0.30      0.30      0.30       649\n",
      "       weighted avg       0.32      0.31      0.31       649\n",
      "\n"
     ]
    },
    {
     "name": "stderr",
     "output_type": "stream",
     "text": [
      "Training Models:  83%|███████████████████████████████████████████████████████▊           | 5/6 [03:13<00:42, 42.09s/it]"
     ]
    },
    {
     "name": "stdout",
     "output_type": "stream",
     "text": [
      "\n",
      "📌 Random Forest\n",
      "✅ Accuracy: 0.68\n",
      "                     precision    recall  f1-score   support\n",
      "\n",
      "     Arshdeep Singh       0.67      0.96      0.79        56\n",
      "         Axar Patel       0.76      0.68      0.72        41\n",
      "      Hardik Pandya       0.60      0.53      0.57        49\n",
      "       Harshit Rana       0.66      0.68      0.67        37\n",
      "           KL Rahul       0.71      0.54      0.62        46\n",
      "      Kuldeep Yadav       0.60      0.65      0.63        49\n",
      "     Mohammed Shami       0.83      0.71      0.76        41\n",
      "    Ravindra Jadeja       0.87      0.57      0.69        35\n",
      "       Rishabh Pant       0.57      0.72      0.63        46\n",
      "       rohit sharma       1.00      0.48      0.65        29\n",
      "       Shreyas Iyer       0.55      0.72      0.62        57\n",
      "       Shubman Gill       0.84      0.82      0.83        39\n",
      "Varun Chakaravarthy       0.87      0.48      0.62        27\n",
      "        Virat Kohli       0.64      0.67      0.65        48\n",
      "  Washington Sundar       0.70      0.78      0.74        49\n",
      "\n",
      "           accuracy                           0.68       649\n",
      "          macro avg       0.72      0.67      0.68       649\n",
      "       weighted avg       0.70      0.68      0.68       649\n",
      "\n"
     ]
    },
    {
     "name": "stderr",
     "output_type": "stream",
     "text": [
      "Training Models: 100%|███████████████████████████████████████████████████████████████████| 6/6 [03:15<00:00, 32.63s/it]"
     ]
    },
    {
     "name": "stdout",
     "output_type": "stream",
     "text": [
      "\n",
      "📌 Naive Bayes\n",
      "✅ Accuracy: 0.38\n",
      "                     precision    recall  f1-score   support\n",
      "\n",
      "     Arshdeep Singh       0.45      0.68      0.54        56\n",
      "         Axar Patel       0.35      0.29      0.32        41\n",
      "      Hardik Pandya       0.50      0.12      0.20        49\n",
      "       Harshit Rana       0.42      0.41      0.41        37\n",
      "           KL Rahul       0.48      0.26      0.34        46\n",
      "      Kuldeep Yadav       0.48      0.45      0.46        49\n",
      "     Mohammed Shami       0.23      0.51      0.32        41\n",
      "    Ravindra Jadeja       0.35      0.26      0.30        35\n",
      "       Rishabh Pant       0.25      0.39      0.31        46\n",
      "       rohit sharma       0.29      0.17      0.22        29\n",
      "       Shreyas Iyer       0.43      0.40      0.41        57\n",
      "       Shubman Gill       0.66      0.54      0.59        39\n",
      "Varun Chakaravarthy       0.20      0.33      0.25        27\n",
      "        Virat Kohli       0.36      0.33      0.34        48\n",
      "  Washington Sundar       0.59      0.35      0.44        49\n",
      "\n",
      "           accuracy                           0.38       649\n",
      "          macro avg       0.40      0.37      0.36       649\n",
      "       weighted avg       0.41      0.38      0.37       649\n",
      "\n"
     ]
    },
    {
     "name": "stderr",
     "output_type": "stream",
     "text": [
      "\n"
     ]
    }
   ],
   "source": [
    "from sklearn.linear_model import LogisticRegression\n",
    "from sklearn.neighbors import KNeighborsClassifier\n",
    "from sklearn.tree import DecisionTreeClassifier\n",
    "from sklearn.ensemble import RandomForestClassifier\n",
    "from sklearn.naive_bayes import GaussianNB\n",
    "from sklearn.svm import SVC\n",
    "from sklearn.metrics import classification_report, accuracy_score\n",
    "from tqdm import tqdm\n",
    "\n",
    "models = {\n",
    "    \"Logistic Regression\": LogisticRegression(max_iter=1000),\n",
    "    \"KNN\": KNeighborsClassifier(n_neighbors=5),\n",
    "    \"SVM\": SVC(kernel='linear'),\n",
    "    \"Decision Tree\": DecisionTreeClassifier(),\n",
    "    \"Random Forest\": RandomForestClassifier(n_estimators=100),\n",
    "    \"Naive Bayes\": GaussianNB()\n",
    "}\n",
    "\n",
    "for name, model in tqdm(models.items(), desc=\"Training Models\"):\n",
    "    model.fit(X_train, y_train)\n",
    "    y_pred = model.predict(X_test)\n",
    "    acc = accuracy_score(y_test, y_pred)\n",
    "    print(f\"\\n📌 {name}\")\n",
    "    print(f\"✅ Accuracy: {acc:.2f}\")\n",
    "    print(classification_report(y_test, y_pred, target_names=list(label_dict.values())))\n"
   ]
  },
  {
   "cell_type": "code",
   "execution_count": 11,
   "id": "365f8031-fffd-4cde-b7cd-d5208e340ec6",
   "metadata": {},
   "outputs": [],
   "source": [
    "scaler = StandardScaler()\n",
    "X_scaled = scaler.fit_transform(X)"
   ]
  },
  {
   "cell_type": "code",
   "execution_count": 12,
   "id": "63b4dea3-b0ab-47e4-ac56-5bad100377ab",
   "metadata": {},
   "outputs": [
    {
     "data": {
      "text/plain": [
       "array([[-0.32987974, -0.39731224,  1.19014723, ..., -0.55471983,\n",
       "         0.80707905,  1.47114987],\n",
       "       [-0.76698087, -0.76734761,  0.38959788, ...,  1.24587386,\n",
       "         1.17711385,  1.24323641],\n",
       "       [-0.41257455, -0.39731224, -0.39917869, ...,  0.37319348,\n",
       "         0.40340472,  0.36414163],\n",
       "       ...,\n",
       "       [-0.38894746, -0.37343899, -0.37563312, ..., -0.13494952,\n",
       "        -0.11240137, -0.13509737],\n",
       "       [-0.36532038, -0.37343899, -0.38740591, ...,  0.25168103,\n",
       "         0.02215674, -0.52580616],\n",
       "       [-1.05050593, -1.0538266 , -1.02313627, ..., -1.27274798,\n",
       "        -1.26735848, -1.24210561]])"
      ]
     },
     "execution_count": 12,
     "metadata": {},
     "output_type": "execute_result"
    }
   ],
   "source": [
    "X_scaled"
   ]
  },
  {
   "cell_type": "code",
   "execution_count": 22,
   "id": "7489302f-127e-41e2-8411-0578ccd276a2",
   "metadata": {},
   "outputs": [
    {
     "name": "stdout",
     "output_type": "stream",
     "text": [
      "Original shape: (3244, 12288)\n",
      "Reduced shape: (3244, 300)\n"
     ]
    }
   ],
   "source": [
    "pca = PCA(n_components=300)\n",
    "X_pca = pca.fit_transform(X_scaled)\n",
    "\n",
    "print(\"Original shape:\", X.shape)\n",
    "print(\"Reduced shape:\", X_pca.shape)\n"
   ]
  },
  {
   "cell_type": "code",
   "execution_count": 19,
   "id": "ce26465a-c1f2-4091-b14e-731ce84d0be7",
   "metadata": {},
   "outputs": [],
   "source": [
    "\n",
    "\n",
    "X_train, X_test, y_train, y_test = train_test_split(\n",
    "    X_pca, y, test_size=0.2, random_state=42, stratify=y\n",
    ")\n"
   ]
  },
  {
   "cell_type": "code",
   "execution_count": 23,
   "id": "a4ad6d54-c7d9-4d58-97b5-6afdc5b6dc3a",
   "metadata": {},
   "outputs": [
    {
     "name": "stdout",
     "output_type": "stream",
     "text": [
      "✅ Accuracy: 0.8351309707241911\n",
      "              precision    recall  f1-score   support\n",
      "\n",
      "           0       0.87      0.96      0.92        56\n",
      "           1       0.90      0.88      0.89        41\n",
      "           2       0.81      0.80      0.80        49\n",
      "           3       0.88      0.78      0.83        37\n",
      "           4       0.82      0.80      0.81        46\n",
      "           5       0.85      0.82      0.83        49\n",
      "           6       0.92      0.85      0.89        41\n",
      "           7       0.85      0.80      0.82        35\n",
      "           8       0.70      0.83      0.76        46\n",
      "           9       0.73      0.66      0.69        29\n",
      "          10       0.87      0.84      0.86        57\n",
      "          11       0.85      0.90      0.88        39\n",
      "          12       0.83      0.74      0.78        27\n",
      "          13       0.78      0.81      0.80        48\n",
      "          14       0.85      0.92      0.88        49\n",
      "\n",
      "    accuracy                           0.84       649\n",
      "   macro avg       0.84      0.83      0.83       649\n",
      "weighted avg       0.84      0.84      0.83       649\n",
      "\n"
     ]
    }
   ],
   "source": [
    "\n",
    "model = LogisticRegression(max_iter=1000)\n",
    "model.fit(X_train, y_train)\n",
    "\n",
    "y_pred = model.predict(X_test)\n",
    "\n",
    "print(\"✅ Accuracy:\", accuracy_score(y_test, y_pred))\n",
    "print(classification_report(y_test, y_pred))\n"
   ]
  },
  {
   "cell_type": "code",
   "execution_count": 24,
   "id": "c4329f10-7bfa-455f-9c9e-8494254f65b7",
   "metadata": {},
   "outputs": [
    {
     "name": "stdout",
     "output_type": "stream",
     "text": [
      "Variance retained with 100 components: 0.97\n"
     ]
    }
   ],
   "source": [
    "explained_var = np.sum(pca.explained_variance_ratio_)\n",
    "print(f\"Variance retained with 100 components: {explained_var:.2f}\")\n"
   ]
  },
  {
   "cell_type": "code",
   "execution_count": 25,
   "id": "0a7428c2-cb46-421b-8803-014bd5ad9984",
   "metadata": {},
   "outputs": [
    {
     "data": {
      "image/png": "[encoded data removed]",
      "text/plain": [
       "<Figure size 640x480 with 2 Axes>"
      ]
     },
     "metadata": {},
     "output_type": "display_data"
    }
   ],
   "source": [
    "from sklearn.metrics import confusion_matrix, ConfusionMatrixDisplay\n",
    "import matplotlib.pyplot as plt\n",
    "\n",
    "cm = confusion_matrix(y_test, y_pred)\n",
    "disp = ConfusionMatrixDisplay(confusion_matrix=cm, display_labels=model.classes_)\n",
    "disp.plot(cmap='viridis', xticks_rotation=90)\n",
    "plt.title(\"Confusion Matrix\")\n",
    "plt.show()\n"
   ]
  },
  {
   "cell_type": "code",
   "execution_count": 36,
   "id": "a67981a9-1a12-4461-a613-cd693b1cfab0",
   "metadata": {},
   "outputs": [],
   "source": [
    "from sklearn.model_selection import learning_curve\n",
    "\n",
    "train_sizes, train_scores, test_scores = learning_curve(\n",
    "    model, X_pca, y, cv=5, scoring='accuracy', n_jobs=-1\n",
    ")\n",
    "\n",
    "# You can plot this if you'd like\n"
   ]
  },
  {
   "cell_type": "code",
   "execution_count": 37,
   "id": "0eb6e5cb-9346-4023-a7eb-8290a1ebe3ee",
   "metadata": {},
   "outputs": [
    {
     "name": "stdout",
     "output_type": "stream",
     "text": [
      "Predicted label: 3\n",
      "True label: 3\n"
     ]
    }
   ],
   "source": [
    "index = 42  # any test index\n",
    "sample = X_test[index].reshape(1, -1)\n",
    "prediction = model.predict(sample)\n",
    "\n",
    "print(\"Predicted label:\", prediction[0])\n",
    "print(\"True label:\", y_test[index])\n"
   ]
  },
  {
   "cell_type": "code",
   "execution_count": 38,
   "id": "1008e66b-7bc0-4b58-88e8-9eb83ab5785b",
   "metadata": {},
   "outputs": [
    {
     "name": "stdout",
     "output_type": "stream",
     "text": [
      "Class 0: 0.00\n",
      "Class 1: 0.00\n",
      "Class 2: 0.00\n",
      "Class 3: 0.99\n",
      "Class 4: 0.00\n",
      "Class 5: 0.00\n",
      "Class 6: 0.00\n",
      "Class 7: 0.00\n",
      "Class 8: 0.00\n",
      "Class 9: 0.00\n",
      "Class 10: 0.00\n",
      "Class 11: 0.00\n",
      "Class 12: 0.01\n",
      "Class 13: 0.00\n",
      "Class 14: 0.00\n"
     ]
    }
   ],
   "source": [
    "probs = model.predict_proba(sample)\n",
    "for i, p in enumerate(probs[0]):\n",
    "    print(f\"Class {i}: {p:.2f}\")\n"
   ]
  },
  {
   "cell_type": "code",
   "execution_count": 41,
   "id": "db27339e-51e0-43c3-a109-71d38f3004e3",
   "metadata": {},
   "outputs": [
    {
     "name": "stdout",
     "output_type": "stream",
     "text": [
      "Class 3: 0.99\n",
      "Class 12: 0.01\n",
      "Class 11: 0.00\n",
      "Class 14: 0.00\n",
      "Class 1: 0.00\n"
     ]
    }
   ],
   "source": [
    "import numpy as np\n",
    "top_indices = np.argsort(probs[0])[::-1][:5]\n",
    "\n",
    "for idx in top_indices:\n",
    "    print(f\"Class {idx}: {probs[0][idx]:.2f}\")\n"
   ]
  },
  {
   "cell_type": "code",
   "execution_count": 42,
   "id": "4ee0716b-82d4-4b74-ba64-82eff4c17ffd",
   "metadata": {},
   "outputs": [
    {
     "name": "stdout",
     "output_type": "stream",
     "text": [
      "Sample 0 | True: 9 | Pred: 13 | Confidence: 0.88\n",
      "Sample 9 | True: 13 | Pred: 12 | Confidence: 0.79\n",
      "Sample 30 | True: 6 | Pred: 13 | Confidence: 0.92\n",
      "Sample 32 | True: 9 | Pred: 8 | Confidence: 0.79\n",
      "Sample 36 | True: 6 | Pred: 4 | Confidence: 0.44\n",
      "Sample 40 | True: 5 | Pred: 6 | Confidence: 0.54\n",
      "Sample 49 | True: 14 | Pred: 4 | Confidence: 0.90\n",
      "Sample 50 | True: 1 | Pred: 3 | Confidence: 1.00\n",
      "Sample 51 | True: 2 | Pred: 12 | Confidence: 0.70\n",
      "Sample 54 | True: 10 | Pred: 5 | Confidence: 0.44\n",
      "Sample 64 | True: 7 | Pred: 0 | Confidence: 0.93\n",
      "Sample 70 | True: 4 | Pred: 6 | Confidence: 0.55\n",
      "Sample 81 | True: 4 | Pred: 0 | Confidence: 0.98\n",
      "Sample 82 | True: 10 | Pred: 8 | Confidence: 0.98\n",
      "Sample 89 | True: 4 | Pred: 14 | Confidence: 0.64\n",
      "Sample 92 | True: 2 | Pred: 11 | Confidence: 0.97\n",
      "Sample 110 | True: 14 | Pred: 4 | Confidence: 0.88\n",
      "Sample 115 | True: 7 | Pred: 1 | Confidence: 0.72\n",
      "Sample 118 | True: 10 | Pred: 5 | Confidence: 0.42\n",
      "Sample 125 | True: 5 | Pred: 8 | Confidence: 0.48\n",
      "Sample 126 | True: 1 | Pred: 10 | Confidence: 0.69\n",
      "Sample 134 | True: 1 | Pred: 14 | Confidence: 0.82\n",
      "Sample 144 | True: 4 | Pred: 10 | Confidence: 0.89\n",
      "Sample 158 | True: 8 | Pred: 5 | Confidence: 1.00\n",
      "Sample 164 | True: 11 | Pred: 0 | Confidence: 0.80\n",
      "Sample 179 | True: 7 | Pred: 5 | Confidence: 0.57\n",
      "Sample 188 | True: 2 | Pred: 8 | Confidence: 0.39\n",
      "Sample 192 | True: 9 | Pred: 12 | Confidence: 0.95\n",
      "Sample 198 | True: 9 | Pred: 8 | Confidence: 0.57\n",
      "Sample 206 | True: 12 | Pred: 4 | Confidence: 0.74\n",
      "Sample 208 | True: 0 | Pred: 4 | Confidence: 0.50\n",
      "Sample 219 | True: 5 | Pred: 11 | Confidence: 0.95\n",
      "Sample 223 | True: 3 | Pred: 14 | Confidence: 0.87\n",
      "Sample 231 | True: 12 | Pred: 3 | Confidence: 0.79\n",
      "Sample 232 | True: 4 | Pred: 0 | Confidence: 0.99\n",
      "Sample 236 | True: 5 | Pred: 2 | Confidence: 0.83\n",
      "Sample 237 | True: 10 | Pred: 6 | Confidence: 0.32\n",
      "Sample 238 | True: 1 | Pred: 14 | Confidence: 0.54\n",
      "Sample 247 | True: 13 | Pred: 8 | Confidence: 0.98\n",
      "Sample 256 | True: 11 | Pred: 14 | Confidence: 0.63\n",
      "Sample 273 | True: 7 | Pred: 8 | Confidence: 0.97\n",
      "Sample 276 | True: 2 | Pred: 10 | Confidence: 0.66\n",
      "Sample 284 | True: 13 | Pred: 2 | Confidence: 0.57\n",
      "Sample 292 | True: 3 | Pred: 1 | Confidence: 0.79\n",
      "Sample 301 | True: 9 | Pred: 2 | Confidence: 0.84\n",
      "Sample 304 | True: 14 | Pred: 11 | Confidence: 0.99\n",
      "Sample 305 | True: 3 | Pred: 10 | Confidence: 0.77\n",
      "Sample 307 | True: 13 | Pred: 8 | Confidence: 0.74\n",
      "Sample 308 | True: 12 | Pred: 4 | Confidence: 1.00\n",
      "Sample 309 | True: 6 | Pred: 9 | Confidence: 0.85\n",
      "Sample 310 | True: 13 | Pred: 8 | Confidence: 0.51\n",
      "Sample 319 | True: 2 | Pred: 10 | Confidence: 0.99\n",
      "Sample 325 | True: 8 | Pred: 13 | Confidence: 0.59\n",
      "Sample 332 | True: 5 | Pred: 2 | Confidence: 0.97\n",
      "Sample 355 | True: 10 | Pred: 8 | Confidence: 0.70\n",
      "Sample 379 | True: 2 | Pred: 7 | Confidence: 0.75\n",
      "Sample 385 | True: 6 | Pred: 0 | Confidence: 0.66\n",
      "Sample 387 | True: 9 | Pred: 2 | Confidence: 0.99\n",
      "Sample 389 | True: 3 | Pred: 11 | Confidence: 0.38\n",
      "Sample 391 | True: 7 | Pred: 9 | Confidence: 0.90\n",
      "Sample 394 | True: 10 | Pred: 5 | Confidence: 0.64\n",
      "Sample 400 | True: 2 | Pred: 13 | Confidence: 0.88\n",
      "Sample 402 | True: 4 | Pred: 13 | Confidence: 0.70\n",
      "Sample 403 | True: 2 | Pred: 9 | Confidence: 0.65\n",
      "Sample 404 | True: 9 | Pred: 7 | Confidence: 0.98\n",
      "Sample 409 | True: 6 | Pred: 9 | Confidence: 0.94\n",
      "Sample 412 | True: 7 | Pred: 8 | Confidence: 0.84\n",
      "Sample 422 | True: 2 | Pred: 8 | Confidence: 0.90\n",
      "Sample 429 | True: 6 | Pred: 14 | Confidence: 0.70\n",
      "Sample 430 | True: 2 | Pred: 8 | Confidence: 0.54\n",
      "Sample 435 | True: 13 | Pred: 8 | Confidence: 0.42\n",
      "Sample 453 | True: 9 | Pred: 2 | Confidence: 0.98\n",
      "Sample 454 | True: 3 | Pred: 2 | Confidence: 0.78\n",
      "Sample 464 | True: 3 | Pred: 9 | Confidence: 0.31\n",
      "Sample 472 | True: 0 | Pred: 14 | Confidence: 0.96\n",
      "Sample 484 | True: 14 | Pred: 4 | Confidence: 0.73\n",
      "Sample 488 | True: 8 | Pred: 10 | Confidence: 0.59\n",
      "Sample 495 | True: 13 | Pred: 1 | Confidence: 0.98\n",
      "Sample 508 | True: 5 | Pred: 11 | Confidence: 0.75\n",
      "Sample 516 | True: 3 | Pred: 11 | Confidence: 0.87\n",
      "Sample 526 | True: 8 | Pred: 9 | Confidence: 0.74\n",
      "Sample 529 | True: 10 | Pred: 3 | Confidence: 0.80\n",
      "Sample 533 | True: 4 | Pred: 13 | Confidence: 0.73\n",
      "Sample 534 | True: 5 | Pred: 8 | Confidence: 0.97\n",
      "Sample 542 | True: 12 | Pred: 1 | Confidence: 0.77\n",
      "Sample 544 | True: 13 | Pred: 5 | Confidence: 0.37\n",
      "Sample 546 | True: 4 | Pred: 0 | Confidence: 0.72\n",
      "Sample 547 | True: 8 | Pred: 13 | Confidence: 0.47\n",
      "Sample 548 | True: 12 | Pred: 13 | Confidence: 0.48\n",
      "Sample 549 | True: 9 | Pred: 2 | Confidence: 0.91\n",
      "Sample 550 | True: 11 | Pred: 3 | Confidence: 1.00\n",
      "Sample 556 | True: 11 | Pred: 5 | Confidence: 0.38\n",
      "Sample 576 | True: 3 | Pred: 2 | Confidence: 0.55\n",
      "Sample 581 | True: 1 | Pred: 7 | Confidence: 0.99\n",
      "Sample 586 | True: 5 | Pred: 7 | Confidence: 0.95\n",
      "Sample 591 | True: 8 | Pred: 7 | Confidence: 0.42\n",
      "Sample 599 | True: 12 | Pred: 8 | Confidence: 0.69\n",
      "Sample 602 | True: 10 | Pred: 14 | Confidence: 0.86\n",
      "Sample 608 | True: 12 | Pred: 13 | Confidence: 0.41\n",
      "Sample 610 | True: 9 | Pred: 12 | Confidence: 0.82\n",
      "Sample 611 | True: 4 | Pred: 13 | Confidence: 0.80\n",
      "Sample 613 | True: 7 | Pred: 13 | Confidence: 0.72\n",
      "Sample 622 | True: 13 | Pred: 10 | Confidence: 0.51\n",
      "Sample 624 | True: 8 | Pred: 9 | Confidence: 0.50\n",
      "Sample 636 | True: 5 | Pred: 0 | Confidence: 0.82\n",
      "Sample 637 | True: 8 | Pred: 0 | Confidence: 0.97\n",
      "Sample 645 | True: 10 | Pred: 4 | Confidence: 0.46\n"
     ]
    }
   ],
   "source": [
    "probs_all = model.predict_proba(X_test)\n",
    "wrong_preds = (y_pred != y_test)\n",
    "\n",
    "for i in np.where(wrong_preds)[0]:\n",
    "    top_class = np.argmax(probs_all[i])\n",
    "    confidence = probs_all[i][top_class]\n",
    "    print(f\"Sample {i} | True: {y_test[i]} | Pred: {y_pred[i]} | Confidence: {confidence:.2f}\")\n"
   ]
  },
  {
   "cell_type": "code",
   "execution_count": null,
   "id": "18522bc3-b4cd-4639-8cd7-0d7fb7f929b9",
   "metadata": {},
   "outputs": [],
   "source": []
  }
 ],
 "metadata": {
  "kernelspec": {
   "display_name": "Python 3 (ipykernel)",
   "language": "python",
   "name": "python3"
  },
  "language_info": {
   "codemirror_mode": {
    "name": "ipython",
    "version": 3
   },
   "file_extension": ".py",
   "mimetype": "text/x-python",
   "name": "python",
   "nbconvert_exporter": "python",
   "pygments_lexer": "ipython3",
   "version": "3.12.7"
  }
 },
 "nbformat": 4,
 "nbformat_minor": 5
}
